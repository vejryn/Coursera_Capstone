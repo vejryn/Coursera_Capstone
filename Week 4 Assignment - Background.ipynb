{
 "cells": [
  {
   "cell_type": "markdown",
   "metadata": {},
   "source": [
    "### Background\n",
    "\n",
    "Surabaya is one of the biggest metropolitan city in Indonesia, for various reason, people in Surabaya like to spend their leisure time discussing hobbies and many other things with coffee as their main beverage to be with, hence the term 'Ngopi' is popular among the ears of the people.\n",
    "\n",
    "When we think about it from investor perspective, we should take advantage of this trend to develop a Coffee Shop, but of course, we need to do it with serious consideration. The location of the Coffee Shop is one of the most important things to consider to determine the success rate of the Coffee Shop itself, but, how can we determine the best possible location?\n",
    "\n",
    "We then will analyse data to help us find the best possible location for our Coffee Shop."
   ]
  },
  {
   "cell_type": "markdown",
   "metadata": {},
   "source": [
    "### Data\n",
    "\n",
    "To solve the problem, we need the following data:\n",
    "\n",
    "- List of Kecamatan in Surabaya, we need to correctly determine the actual data of Kecamatan in Surabaya to perfectly analyze our data. (Kecamatan sometimes would be described as neighborhood, in our notebooks). We retrieve the data from Wikipedia page [1] using built in pandas function.\n",
    "\n",
    "- Geodata of Kecamatan in Surabaya, we need the geodata of Kecamatan in Surabaya to help us process the Foursquare API. We retrieve the data using geopy library in pandas.\n",
    "\n",
    "- List of Coffee Shop in Surabaya. We retrieve the data using Foursquare API. [2]"
   ]
  },
  {
   "cell_type": "code",
   "execution_count": null,
   "metadata": {},
   "outputs": [],
   "source": []
  }
 ],
 "metadata": {
  "kernelspec": {
   "display_name": "Coursera Capstone",
   "language": "python",
   "name": "coursera-capstone"
  },
  "language_info": {
   "codemirror_mode": {
    "name": "ipython",
    "version": 3
   },
   "file_extension": ".py",
   "mimetype": "text/x-python",
   "name": "python",
   "nbconvert_exporter": "python",
   "pygments_lexer": "ipython3",
   "version": "3.7.6"
  }
 },
 "nbformat": 4,
 "nbformat_minor": 4
}
