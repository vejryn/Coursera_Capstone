{
 "cells": [
  {
   "cell_type": "markdown",
   "metadata": {},
   "source": [
    "### Data\n",
    "\n",
    "To solve the problem, we need the following data:\n",
    "\n",
    "- List of Kecamatan in Surabaya, we need to correctly determine the actual data of Kecamatan in Surabaya to perfectly analyze our data. (Kecamatan sometimes would be described as neighborhood, in our notebooks). We retrieve the data from Wikipedia page (https://id.wikipedia.org/wiki/Daftar_kecamatan_dan_kelurahan_di_Kota_Surabaya) using built in pandas function.\n",
    "\n",
    "- Geodata of Kecamatan in Surabaya, we need the geodata of Kecamatan in Surabaya to help us process the Foursquare API. We retrieve the data using geopy library in pandas.\n",
    "\n",
    "- List of Coffee Shop and other venues in Surabaya. We retrieve the data using Foursquare API. (https://developer.foursquare.com), we use following data\n",
    "1. "
   ]
  },
  {
   "cell_type": "code",
   "execution_count": null,
   "metadata": {},
   "outputs": [],
   "source": []
  }
 ],
 "metadata": {
  "kernelspec": {
   "display_name": "Coursera Capstone",
   "language": "python",
   "name": "coursera-capstone"
  },
  "language_info": {
   "codemirror_mode": {
    "name": "ipython",
    "version": 3
   },
   "file_extension": ".py",
   "mimetype": "text/x-python",
   "name": "python",
   "nbconvert_exporter": "python",
   "pygments_lexer": "ipython3",
   "version": "3.7.6"
  }
 },
 "nbformat": 4,
 "nbformat_minor": 4
}
