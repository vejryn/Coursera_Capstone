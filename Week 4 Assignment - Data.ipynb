{
 "cells": [
  {
   "cell_type": "markdown",
   "metadata": {},
   "source": [
    "### Data\n",
    "\n",
    "To solve the problem, we need the following data:\n",
    "\n",
    "- List of Kecamatan in Surabaya, we need to correctly determine the actual data of Kecamatan in Surabaya to perfectly analyze our data. (Kecamatan sometimes would be described as neighborhood, in our notebooks). We retrieve the data from Wikipedia page [1] using built in pandas function.\n",
    "\n",
    "- Geodata of Kecamatan in Surabaya, we need the geodata of Kecamatan in Surabaya to help us process the Foursquare API. We retrieve the data using geopy library in pandas.\n",
    "\n",
    "- List of Coffee Shop in Surabaya. We retrieve the data using Foursquare API. [2]"
   ]
  }
 ],
 "metadata": {
  "kernelspec": {
   "display_name": "Coursera Capstone",
   "language": "python",
   "name": "coursera-capstone"
  },
  "language_info": {
   "codemirror_mode": {
    "name": "ipython",
    "version": 3
   },
   "file_extension": ".py",
   "mimetype": "text/x-python",
   "name": "python",
   "nbconvert_exporter": "python",
   "pygments_lexer": "ipython3",
   "version": "3.7.6"
  }
 },
 "nbformat": 4,
 "nbformat_minor": 4
}
